{
 "cells": [
  {
   "cell_type": "markdown",
   "metadata": {},
   "source": [
    "Example of the use of the eFEL (eFeature Extraction Library) in conjunction with models downloaded from the Neocortical Microcircuit Portal website\n",
    "\n",
    "Requirements:\n",
    "- Python 2.6+, including Pip (https://pip.readthedocs.org)\n",
    "- A version of Neuron (with Python support) installed on your computer (for instruction, see https://bbp.epfl.ch/nmc-portal/tools)"
   ]
  },
  {
   "cell_type": "markdown",
   "metadata": {},
   "source": [
    "Make matplotlib plots show up in the notebook: "
   ]
  },
  {
   "cell_type": "code",
   "execution_count": 1,
   "metadata": {
    "collapsed": true
   },
   "outputs": [],
   "source": [
    "%matplotlib inline"
   ]
  },
  {
   "cell_type": "markdown",
   "metadata": {},
   "source": [
    "Install the eFeature Extraction Library:"
   ]
  },
  {
   "cell_type": "code",
   "execution_count": 13,
   "metadata": {
    "collapsed": false
   },
   "outputs": [
    {
     "name": "stdout",
     "output_type": "stream",
     "text": [
      "Requirement already satisfied (use --upgrade to upgrade): efel in /usr/local/lib/python2.7/site-packages\r\n",
      "Requirement already satisfied (use --upgrade to upgrade): numpy>=1.6 in /usr/local/lib/python2.7/site-packages (from efel)\r\n"
     ]
    }
   ],
   "source": [
    "!pip install efel\n",
    "import efel"
   ]
  },
  {
   "cell_type": "markdown",
   "metadata": {},
   "source": [
    "Get a model package from the website"
   ]
  },
  {
   "cell_type": "code",
   "execution_count": 3,
   "metadata": {
    "collapsed": false
   },
   "outputs": [
    {
     "name": "stdout",
     "output_type": "stream",
     "text": [
      "  % Total    % Received % Xferd  Average Speed   Time    Time     Time  Current\n",
      "                                 Dload  Upload   Total   Spent    Left  Speed\n",
      "100 1718k    0 1718k    0     0  6956k      0 --:--:-- --:--:-- --:--:-- 6984k\n"
     ]
    }
   ],
   "source": [
    "!curl -o L5_TTPC2.zip  https://bbp.epfl.ch/nmc-portal/documents/10184/1921755/L5_TTPC2_cADpyr232_1.zip/a058fc9c-6c67-417b-a65b-20742902ccbb"
   ]
  },
  {
   "cell_type": "markdown",
   "metadata": {},
   "source": [
    "Unzip the model package:"
   ]
  },
  {
   "cell_type": "code",
   "execution_count": 6,
   "metadata": {
    "collapsed": false
   },
   "outputs": [
    {
     "name": "stdout",
     "output_type": "stream",
     "text": [
      "Archive:  L5_TTPC2.zip\r\n"
     ]
    }
   ],
   "source": [
    "!unzip -f L5_TTPC2.zip"
   ]
  },
  {
   "cell_type": "markdown",
   "metadata": {},
   "source": [
    "Change directory to the model package directory:"
   ]
  },
  {
   "cell_type": "code",
   "execution_count": 7,
   "metadata": {
    "collapsed": true
   },
   "outputs": [],
   "source": [
    "import os\n",
    "os.chdir('L5_TTPC2_cADpyr232_1')"
   ]
  },
  {
   "cell_type": "markdown",
   "metadata": {},
   "source": [
    "Compile the Neuron mechanisms (if this fails, you might not have installed Neuron correctly)"
   ]
  },
  {
   "cell_type": "code",
   "execution_count": 8,
   "metadata": {
    "collapsed": false
   },
   "outputs": [
    {
     "name": "stdout",
     "output_type": "stream",
     "text": [
      "/Users/werner/src/eFEL/examples/nmc-portal/L5_TTPC2_cADpyr232_1\n",
      "mechanisms/CaDynamics_E2.mod mechanisms/Ca_HVA.mod mechanisms/Ca_LVAst.mod mechanisms/Ih.mod mechanisms/Im.mod mechanisms/K_Pst.mod mechanisms/K_Tst.mod mechanisms/NaTa_t.mod mechanisms/NaTs2_t.mod mechanisms/Nap_Et2.mod mechanisms/ProbAMPANMDA_EMS.mod mechanisms/ProbGABAAB_EMS.mod mechanisms/SK_E2.mod mechanisms/SKv3_1.mod\n",
      "CaDynamics_E2.mod Ca_HVA.mod Ca_LVAst.mod Ih.mod Im.mod K_Pst.mod K_Tst.mod NaTa_t.mod NaTs2_t.mod Nap_Et2.mod ProbAMPANMDA_EMS.mod ProbGABAAB_EMS.mod SK_E2.mod SKv3_1.mod\n",
      "\"/usr/local/Cellar/neuron/7.4/share/nrn/libtool\"  --mode=compile clang -DHAVE_CONFIG_H  -I. -I.. -I\"/usr/local/Cellar/neuron/7.4/include/nrn\" -I\"/usr/local/Cellar/neuron/7.4/libexec/lib\"      -g -O2 -c -o mod_func.lo mod_func.c\n",
      "libtool: compile:  clang -DHAVE_CONFIG_H -I. -I.. -I/usr/local/Cellar/neuron/7.4/include/nrn -I/usr/local/Cellar/neuron/7.4/libexec/lib -g -O2 -c mod_func.c  -fno-common -DPIC -o .libs/mod_func.o\n",
      "\"/usr/local/Cellar/neuron/7.4/share/nrn/libtool\"  --mode=link clang -module  -g -O2    -headerpad_max_install_names -o libnrnmech.la -rpath \"/usr/local/Cellar/neuron/7.4/libexec/lib\"  CaDynamics_E2.lo Ca_HVA.lo Ca_LVAst.lo Ih.lo Im.lo K_Pst.lo K_Tst.lo NaTa_t.lo NaTs2_t.lo Nap_Et2.lo ProbAMPANMDA_EMS.lo ProbGABAAB_EMS.lo SK_E2.lo SKv3_1.lo mod_func.lo  -L\"/usr/local/Cellar/neuron/7.4/libexec/lib\" -lnrnoc -loc -lmemacs -lnrnmpi -lscopmath -lsparse13 -lreadline -lncurses -L\"/usr/local/Cellar/neuron/7.4/libexec/lib\" \"/usr/local/Cellar/neuron/7.4/libexec/lib/libnrniv.la\" -livoc -lneuron_gnu -lmeschach -lsundials       \n",
      "libtool: link: rm -fr  .libs/libnrnmech.0.so .libs/libnrnmech.la .libs/libnrnmech.lai .libs/libnrnmech.so\n",
      "libtool: link: clang -Wl,-undefined -Wl,dynamic_lookup -o .libs/libnrnmech.0.so -bundle  .libs/CaDynamics_E2.o .libs/Ca_HVA.o .libs/Ca_LVAst.o .libs/Ih.o .libs/Im.o .libs/K_Pst.o .libs/K_Tst.o .libs/NaTa_t.o .libs/NaTs2_t.o .libs/Nap_Et2.o .libs/ProbAMPANMDA_EMS.o .libs/ProbGABAAB_EMS.o .libs/SK_E2.o .libs/SKv3_1.o .libs/mod_func.o   -L/usr/local/Cellar/neuron/7.4/libexec/lib /usr/local/Cellar/neuron/7.4/libexec/lib/libnrnoc.dylib /usr/local/Cellar/neuron/7.4/libexec/lib/liboc.dylib /usr/local/Cellar/neuron/7.4/libexec/lib/libmemacs.dylib /usr/local/Cellar/neuron/7.4/libexec/lib/libnrnmpi.dylib /usr/local/Cellar/neuron/7.4/libexec/lib/libscopmath.dylib /usr/local/Cellar/neuron/7.4/libexec/lib/libsparse13.dylib -lreadline -lncurses /usr/local/Cellar/neuron/7.4/libexec/lib/libnrniv.dylib /usr/local/Cellar/neuron/7.4/libexec/lib/libivoc.dylib /usr/local/Cellar/neuron/7.4/libexec/lib/libneuron_gnu.dylib /usr/local/Cellar/neuron/7.4/libexec/lib/libmeschach.dylib /usr/local/Cellar/neuron/7.4/libexec/lib/libsundials.dylib  -O2  \n",
      "libtool: link: (cd \".libs\" && rm -f \"libnrnmech.so\" && ln -s \"libnrnmech.0.so\" \"libnrnmech.so\")\n",
      "libtool: link: ( cd \".libs\" && rm -f \"libnrnmech.la\" && ln -s \"../libnrnmech.la\" \"libnrnmech.la\" )\n",
      "Successfully created x86_64/special\n"
     ]
    }
   ],
   "source": [
    "!nrnivmodl mechanisms"
   ]
  },
  {
   "cell_type": "markdown",
   "metadata": {},
   "source": [
    "Import the model package in Python, and run it:"
   ]
  },
  {
   "cell_type": "code",
   "execution_count": 9,
   "metadata": {
    "collapsed": false
   },
   "outputs": [
    {
     "name": "stdout",
     "output_type": "stream",
     "text": [
      "Loading constants\n",
      "Loading cell cADpyr232_L5_TTPC2_8052133265\n",
      "Attaching stimulus electrodes\n",
      "Setting up step current clamp: amp=0.593063 nA, delay=700.000000 ms, duration=2000.000000 ms\n",
      "Setting up hypamp current clamp: amp=-0.286011 nA, delay=0.000000 ms, duration=3000.000000 ms\n",
      "Attaching recording electrodes\n",
      "Setting simulation time to 3s for the step currents\n",
      "Disabling variable timestep integration\n",
      "Running for 3000.000000 ms\n",
      "Soma voltage for step 1 saved to: python_recordings/soma_voltage_step1.dat\n",
      "Loading cell cADpyr232_L5_TTPC2_8052133265\n",
      "Attaching stimulus electrodes\n",
      "Setting up step current clamp: amp=0.642485 nA, delay=700.000000 ms, duration=2000.000000 ms\n",
      "Setting up hypamp current clamp: amp=-0.286011 nA, delay=0.000000 ms, duration=3000.000000 ms\n",
      "Attaching recording electrodes\n",
      "Setting simulation time to 3s for the step currents\n",
      "Disabling variable timestep integration\n",
      "Running for 3000.000000 ms\n",
      "Soma voltage for step 2 saved to: python_recordings/soma_voltage_step2.dat\n",
      "Loading cell cADpyr232_L5_TTPC2_8052133265\n",
      "Attaching stimulus electrodes\n",
      "Setting up step current clamp: amp=0.691907 nA, delay=700.000000 ms, duration=2000.000000 ms\n",
      "Setting up hypamp current clamp: amp=-0.286011 nA, delay=0.000000 ms, duration=3000.000000 ms\n",
      "Attaching recording electrodes\n",
      "Setting simulation time to 3s for the step currents\n",
      "Disabling variable timestep integration\n",
      "Running for 3000.000000 ms\n",
      "Soma voltage for step 3 saved to: python_recordings/soma_voltage_step3.dat\n"
     ]
    },
    {
     "data": {
      "image/png": "[encoded data removed]",
      "text/plain": [
       "<matplotlib.figure.Figure at 0x104e6afd0>"
      ]
     },
     "metadata": {},
     "output_type": "display_data"
    },
    {
     "data": {
      "image/png": "[encoded data removed]",
      "text/plain": [
       "<matplotlib.figure.Figure at 0x106fb4a90>"
      ]
     },
     "metadata": {},
     "output_type": "display_data"
    },
    {
     "data": {
      "image/png": "[encoded data removed]",
      "text/plain": [
       "<matplotlib.figure.Figure at 0x104d38fd0>"
      ]
     },
     "metadata": {},
     "output_type": "display_data"
    }
   ],
   "source": [
    "import run\n",
    "run.main(plot_traces=True)"
   ]
  },
  {
   "cell_type": "markdown",
   "metadata": {},
   "source": [
    "Load the output of the model package in numpy array"
   ]
  },
  {
   "cell_type": "code",
   "execution_count": 10,
   "metadata": {
    "collapsed": false
   },
   "outputs": [],
   "source": [
    "import numpy\n",
    "times = []\n",
    "voltages = []\n",
    "for step_number in range(1,4):\n",
    "    data = numpy.loadtxt('python_recordings/soma_voltage_step%d.dat' % step_number)\n",
    "    times.append(data[:, 0])\n",
    "    voltages.append(data[:, 1])"
   ]
  },
  {
   "cell_type": "markdown",
   "metadata": {},
   "source": [
    "Prepare the traces for the eFEL"
   ]
  },
  {
   "cell_type": "code",
   "execution_count": 11,
   "metadata": {
    "collapsed": true
   },
   "outputs": [],
   "source": [
    "traces = []\n",
    "for step_number in range(3):\n",
    "    trace = {}\n",
    "    trace['T'] = times[step_number]\n",
    "    trace['V'] = voltages[step_number]\n",
    "    trace['stim_start'] = [700]\n",
    "    trace['stim_end'] = [2700]\n",
    "    traces.append(trace)"
   ]
  },
  {
   "cell_type": "markdown",
   "metadata": {},
   "source": [
    "Run the eFEL on the trace"
   ]
  },
  {
   "cell_type": "code",
   "execution_count": 17,
   "metadata": {
    "collapsed": false
   },
   "outputs": [],
   "source": [
    "feature_values = efel.getFeatureValues(traces, ['AP_amplitude', 'mean_frequency', 'adaptation_index2', 'ISI_CV', 'doublet_ISI', 'time_to_first_spike', 'AP_height', 'AHP_depth_abs', 'AHP_depth_abs_slow', 'AHP_slow_time', 'AP_width', 'peak_time'])"
   ]
  },
  {
   "cell_type": "markdown",
   "metadata": {
    "collapsed": true
   },
   "source": [
    "Plot frequencies over steps"
   ]
  },
  {
   "cell_type": "code",
   "execution_count": 33,
   "metadata": {
    "collapsed": false
   },
   "outputs": [
    {
     "data": {
      "image/png": "[encoded data removed]",
      "text/plain": [
       "<matplotlib.figure.Figure at 0x1070d1790>"
      ]
     },
     "metadata": {},
     "output_type": "display_data"
    }
   ],
   "source": [
    "import pylab\n",
    "for step_number in range(3):\n",
    "    pylab.bar(step_number, feature_values[step_number]['mean_frequency'][0], align='center')\n",
    "pylab.ylabel('Mean frequency (Hz)')\n",
    "pylab.xlabel('Step number')\n",
    "pylab.xticks(range(3), range(1,4))\n",
    "pylab.show()"
   ]
  }
 ],
 "metadata": {
  "kernelspec": {
   "display_name": "Python 2",
   "language": "python",
   "name": "python2"
  },
  "language_info": {
   "codemirror_mode": {
    "name": "ipython",
    "version": 2
   },
   "file_extension": ".py",
   "mimetype": "text/x-python",
   "name": "python",
   "nbconvert_exporter": "python",
   "pygments_lexer": "ipython2",
   "version": "2.7.10"
  }
 },
 "nbformat": 4,
 "nbformat_minor": 0
}
